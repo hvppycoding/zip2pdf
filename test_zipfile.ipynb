{
 "cells": [
  {
   "cell_type": "code",
   "execution_count": 1,
   "id": "bfdb56f1",
   "metadata": {},
   "outputs": [],
   "source": [
    "import zipfile"
   ]
  },
  {
   "cell_type": "code",
   "execution_count": 2,
   "id": "e434cd1c",
   "metadata": {},
   "outputs": [
    {
     "name": "stdout",
     "output_type": "stream",
     "text": [
      "['005.jpg', '006.jpg', 'part01/', 'part01/002.png', 'part01/003.jpg', 'part01/part01_01/', 'part01/part01_01/001.png', 'part02/', 'part02/004.jpg']\n"
     ]
    }
   ],
   "source": [
    "with zipfile.ZipFile(\"data/data2.zip\") as src_zip:\n",
    "    print(sorted(src_zip.namelist()))"
   ]
  }
 ],
 "metadata": {
  "kernelspec": {
   "display_name": "Python 3 (ipykernel)",
   "language": "python",
   "name": "python3"
  },
  "language_info": {
   "codemirror_mode": {
    "name": "ipython",
    "version": 3
   },
   "file_extension": ".py",
   "mimetype": "text/x-python",
   "name": "python",
   "nbconvert_exporter": "python",
   "pygments_lexer": "ipython3",
   "version": "3.9.13"
  }
 },
 "nbformat": 4,
 "nbformat_minor": 5
}
